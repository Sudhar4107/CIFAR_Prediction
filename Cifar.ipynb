{
  "nbformat": 4,
  "nbformat_minor": 0,
  "metadata": {
    "colab": {
      "name": "Cifar.ipynb",
      "provenance": []
    },
    "kernelspec": {
      "name": "python3",
      "display_name": "Python 3"
    },
    "language_info": {
      "name": "python"
    },
    "accelerator": "GPU"
  },
  "cells": [
    {
      "cell_type": "code",
      "execution_count": 1,
      "metadata": {
        "id": "dkVoRmxzppGB"
      },
      "outputs": [],
      "source": [
        "!cd /content/drive/MyDrive/CIFER_CNN"
      ]
    },
    {
      "cell_type": "code",
      "source": [
        "import tensorflow\n",
        "import matplotlib.pyplot as plt\n",
        "from tensorflow.keras.layers import Conv2D, MaxPool2D, Flatten, Dense, Dropout\n",
        "from tensorflow.keras.models import Sequential\n",
        "from tensorflow.keras.datasets import cifar10\n",
        "from tensorflow.keras.preprocessing import image"
      ],
      "metadata": {
        "id": "ZEKW0Cqvp-dy"
      },
      "execution_count": 24,
      "outputs": []
    },
    {
      "cell_type": "code",
      "source": [
        "from google.colab import drive\n",
        "drive.mount('/content/drive')"
      ],
      "metadata": {
        "colab": {
          "base_uri": "https://localhost:8080/"
        },
        "id": "KtnQpodiPnS0",
        "outputId": "98dfe1cd-f752-4a59-a530-0296bb445fcb"
      },
      "execution_count": 3,
      "outputs": [
        {
          "output_type": "stream",
          "name": "stdout",
          "text": [
            "Drive already mounted at /content/drive; to attempt to forcibly remount, call drive.mount(\"/content/drive\", force_remount=True).\n"
          ]
        }
      ]
    },
    {
      "cell_type": "code",
      "source": [
        "(x_train, y_train), (x_test, y_test) = cifar10.load_data()"
      ],
      "metadata": {
        "id": "MRQXCGXVqUmu",
        "colab": {
          "base_uri": "https://localhost:8080/"
        },
        "outputId": "00165c84-47b9-4c31-a0d8-3e02c994cc41"
      },
      "execution_count": 4,
      "outputs": [
        {
          "output_type": "stream",
          "name": "stdout",
          "text": [
            "Downloading data from https://www.cs.toronto.edu/~kriz/cifar-10-python.tar.gz\n",
            "170500096/170498071 [==============================] - 2s 0us/step\n",
            "170508288/170498071 [==============================] - 2s 0us/step\n"
          ]
        }
      ]
    },
    {
      "cell_type": "code",
      "source": [
        "x_train.shape"
      ],
      "metadata": {
        "colab": {
          "base_uri": "https://localhost:8080/"
        },
        "id": "nwAjH_YcsaCV",
        "outputId": "d3e1598a-ba05-45e8-d298-d9c2631f0515"
      },
      "execution_count": 5,
      "outputs": [
        {
          "output_type": "execute_result",
          "data": {
            "text/plain": [
              "(50000, 32, 32, 3)"
            ]
          },
          "metadata": {},
          "execution_count": 5
        }
      ]
    },
    {
      "cell_type": "code",
      "source": [
        "classes=['aeroplane','automobile','bird','cat','deer','dog','frog','horse','ship','truck']\n"
      ],
      "metadata": {
        "id": "M1iJXnI0sd9y"
      },
      "execution_count": 6,
      "outputs": []
    },
    {
      "cell_type": "code",
      "source": [
        "plt.imshow(x_train[100])\n",
        "classes[y_train[100][0]]"
      ],
      "metadata": {
        "colab": {
          "base_uri": "https://localhost:8080/",
          "height": 284
        },
        "id": "hJuJNSZZuIbp",
        "outputId": "3c970951-67b1-4955-8705-7a54ac29a698"
      },
      "execution_count": 7,
      "outputs": [
        {
          "output_type": "execute_result",
          "data": {
            "text/plain": [
              "'ship'"
            ],
            "application/vnd.google.colaboratory.intrinsic+json": {
              "type": "string"
            }
          },
          "metadata": {},
          "execution_count": 7
        },
        {
          "output_type": "display_data",
          "data": {
            "text/plain": [
              "<Figure size 432x288 with 1 Axes>"
            ],
            "image/png": "[encoded data removed]"
          },
          "metadata": {
            "needs_background": "light"
          }
        }
      ]
    },
    {
      "cell_type": "code",
      "source": [
        "  #Regularization\n",
        "  x_train, x_test = x_train/255, x_test/255"
      ],
      "metadata": {
        "id": "6ES0Wn8AumOZ"
      },
      "execution_count": 8,
      "outputs": []
    },
    {
      "cell_type": "code",
      "source": [
        "plt.imshow(x_train[100])\n",
        "classes[y_train[100][0]]"
      ],
      "metadata": {
        "colab": {
          "base_uri": "https://localhost:8080/",
          "height": 284
        },
        "id": "x5Cv6dWoebns",
        "outputId": "b9bf2fc4-aa43-4791-c7fa-c9a6e281fbe7"
      },
      "execution_count": 9,
      "outputs": [
        {
          "output_type": "execute_result",
          "data": {
            "text/plain": [
              "'ship'"
            ],
            "application/vnd.google.colaboratory.intrinsic+json": {
              "type": "string"
            }
          },
          "metadata": {},
          "execution_count": 9
        },
        {
          "output_type": "display_data",
          "data": {
            "text/plain": [
              "<Figure size 432x288 with 1 Axes>"
            ],
            "image/png": "[encoded data removed]"
          },
          "metadata": {
            "needs_background": "light"
          }
        }
      ]
    },
    {
      "cell_type": "code",
      "source": [
        "model= Sequential()"
      ],
      "metadata": {
        "id": "k_9rKBUded51"
      },
      "execution_count": 10,
      "outputs": []
    },
    {
      "cell_type": "code",
      "source": [
        "#convo layer 1\n",
        "model.add(Conv2D(10, kernel_size=2,activation='relu', kernel_initializer='he_uniform'))\n",
        "model.add(MaxPool2D())\n",
        "\n",
        "#convo layer 2\n",
        "model.add(Conv2D(20, kernel_size=2,activation='relu', kernel_initializer='he_uniform'))\n",
        "model.add(MaxPool2D())\n",
        "\n",
        "#convo layer 3\n",
        "model.add(Conv2D(30, kernel_size=2,activation='relu', kernel_initializer='he_uniform'))\n",
        "model.add(MaxPool2D())\n",
        "\n",
        "#Flatten\n",
        "model.add(Flatten())\n",
        "\n",
        "#ANN\n",
        "\n",
        "#Hidden Layer 1\n",
        "model.add(Dense(128, activation='relu', kernel_initializer='he_uniform'))\n",
        "model.add(Dropout(0.2))\n",
        "\n",
        "#Hidden Layer 2\n",
        "model.add(Dense(64, activation='sigmoid', kernel_initializer='he_uniform'))\n",
        "model.add(Dropout(0.1))\n",
        "\n",
        "#Hidden Layer 3\n",
        "model.add(Dense(32, activation='sigmoid'))\n",
        "model.add(Dropout(0.4))\n",
        "\n",
        "#Output Layer\n",
        "model.add(Dense(10, activation='softmax'))"
      ],
      "metadata": {
        "id": "_UQx4squfrVc"
      },
      "execution_count": 11,
      "outputs": []
    },
    {
      "cell_type": "code",
      "source": [
        "model.compile(optimizer='adam', loss= tensorflow.keras.losses.sparse_categorical_crossentropy, metrics=['accuracy'])"
      ],
      "metadata": {
        "id": "TEHQ_VLMhnMZ"
      },
      "execution_count": 12,
      "outputs": []
    },
    {
      "cell_type": "code",
      "source": [
        "model.fit(x_train, y_train, epochs=50 ,batch_size= 32)"
      ],
      "metadata": {
        "colab": {
          "base_uri": "https://localhost:8080/"
        },
        "id": "nIDwTrnUiM7M",
        "outputId": "53ad4ab1-e8ab-4ef3-d191-837f58bc1fbb"
      },
      "execution_count": 13,
      "outputs": [
        {
          "output_type": "stream",
          "name": "stdout",
          "text": [
            "Epoch 1/50\n",
            "1563/1563 [==============================] - 22s 7ms/step - loss: 1.9407 - accuracy: 0.2602\n",
            "Epoch 2/50\n",
            "1563/1563 [==============================] - 10s 6ms/step - loss: 1.6139 - accuracy: 0.4044\n",
            "Epoch 3/50\n",
            "1563/1563 [==============================] - 10s 6ms/step - loss: 1.4914 - accuracy: 0.4569\n",
            "Epoch 4/50\n",
            "1563/1563 [==============================] - 10s 6ms/step - loss: 1.4081 - accuracy: 0.4962\n",
            "Epoch 5/50\n",
            "1563/1563 [==============================] - 10s 7ms/step - loss: 1.3500 - accuracy: 0.5242\n",
            "Epoch 6/50\n",
            "1563/1563 [==============================] - 10s 7ms/step - loss: 1.2940 - accuracy: 0.5466\n",
            "Epoch 7/50\n",
            "1563/1563 [==============================] - 10s 7ms/step - loss: 1.2504 - accuracy: 0.5642\n",
            "Epoch 8/50\n",
            "1563/1563 [==============================] - 10s 6ms/step - loss: 1.2185 - accuracy: 0.5792\n",
            "Epoch 9/50\n",
            "1563/1563 [==============================] - 10s 6ms/step - loss: 1.1784 - accuracy: 0.5933\n",
            "Epoch 10/50\n",
            "1563/1563 [==============================] - 10s 6ms/step - loss: 1.1532 - accuracy: 0.6055\n",
            "Epoch 11/50\n",
            "1563/1563 [==============================] - 10s 6ms/step - loss: 1.1295 - accuracy: 0.6119\n",
            "Epoch 12/50\n",
            "1563/1563 [==============================] - 10s 6ms/step - loss: 1.1049 - accuracy: 0.6201\n",
            "Epoch 13/50\n",
            "1563/1563 [==============================] - 10s 6ms/step - loss: 1.0877 - accuracy: 0.6288\n",
            "Epoch 14/50\n",
            "1563/1563 [==============================] - 10s 6ms/step - loss: 1.0702 - accuracy: 0.6366\n",
            "Epoch 15/50\n",
            "1563/1563 [==============================] - 10s 6ms/step - loss: 1.0489 - accuracy: 0.6444\n",
            "Epoch 16/50\n",
            "1563/1563 [==============================] - 10s 6ms/step - loss: 1.0321 - accuracy: 0.6499\n",
            "Epoch 17/50\n",
            "1563/1563 [==============================] - 10s 6ms/step - loss: 1.0169 - accuracy: 0.6563\n",
            "Epoch 18/50\n",
            "1563/1563 [==============================] - 10s 6ms/step - loss: 1.0045 - accuracy: 0.6589\n",
            "Epoch 19/50\n",
            "1563/1563 [==============================] - 10s 6ms/step - loss: 0.9973 - accuracy: 0.6623\n",
            "Epoch 20/50\n",
            "1563/1563 [==============================] - 10s 6ms/step - loss: 0.9813 - accuracy: 0.6680\n",
            "Epoch 21/50\n",
            "1563/1563 [==============================] - 10s 6ms/step - loss: 0.9672 - accuracy: 0.6715\n",
            "Epoch 22/50\n",
            "1563/1563 [==============================] - 10s 6ms/step - loss: 0.9636 - accuracy: 0.6743\n",
            "Epoch 23/50\n",
            "1563/1563 [==============================] - 10s 6ms/step - loss: 0.9520 - accuracy: 0.6794\n",
            "Epoch 24/50\n",
            "1563/1563 [==============================] - 10s 6ms/step - loss: 0.9453 - accuracy: 0.6823\n",
            "Epoch 25/50\n",
            "1563/1563 [==============================] - 10s 6ms/step - loss: 0.9332 - accuracy: 0.6854\n",
            "Epoch 26/50\n",
            "1563/1563 [==============================] - 10s 6ms/step - loss: 0.9267 - accuracy: 0.6891\n",
            "Epoch 27/50\n",
            "1563/1563 [==============================] - 10s 6ms/step - loss: 0.9188 - accuracy: 0.6899\n",
            "Epoch 28/50\n",
            "1563/1563 [==============================] - 10s 6ms/step - loss: 0.8956 - accuracy: 0.6977\n",
            "Epoch 29/50\n",
            "1563/1563 [==============================] - 10s 6ms/step - loss: 0.8991 - accuracy: 0.6969\n",
            "Epoch 30/50\n",
            "1563/1563 [==============================] - 10s 6ms/step - loss: 0.8879 - accuracy: 0.7020\n",
            "Epoch 31/50\n",
            "1563/1563 [==============================] - 10s 7ms/step - loss: 0.8822 - accuracy: 0.7033\n",
            "Epoch 32/50\n",
            "1563/1563 [==============================] - 10s 6ms/step - loss: 0.8737 - accuracy: 0.7059\n",
            "Epoch 33/50\n",
            "1563/1563 [==============================] - 10s 6ms/step - loss: 0.8712 - accuracy: 0.7088\n",
            "Epoch 34/50\n",
            "1563/1563 [==============================] - 10s 6ms/step - loss: 0.8669 - accuracy: 0.7074\n",
            "Epoch 35/50\n",
            "1563/1563 [==============================] - 10s 6ms/step - loss: 0.8574 - accuracy: 0.7115\n",
            "Epoch 36/50\n",
            "1563/1563 [==============================] - 10s 6ms/step - loss: 0.8552 - accuracy: 0.7132\n",
            "Epoch 37/50\n",
            "1563/1563 [==============================] - 10s 6ms/step - loss: 0.8476 - accuracy: 0.7163\n",
            "Epoch 38/50\n",
            "1563/1563 [==============================] - 10s 6ms/step - loss: 0.8451 - accuracy: 0.7144\n",
            "Epoch 39/50\n",
            "1563/1563 [==============================] - 10s 6ms/step - loss: 0.8408 - accuracy: 0.7160\n",
            "Epoch 40/50\n",
            "1563/1563 [==============================] - 10s 7ms/step - loss: 0.8334 - accuracy: 0.7213\n",
            "Epoch 41/50\n",
            "1563/1563 [==============================] - 10s 7ms/step - loss: 0.8272 - accuracy: 0.7234\n",
            "Epoch 42/50\n",
            "1563/1563 [==============================] - 10s 6ms/step - loss: 0.8185 - accuracy: 0.7256\n",
            "Epoch 43/50\n",
            "1563/1563 [==============================] - 10s 6ms/step - loss: 0.8109 - accuracy: 0.7275\n",
            "Epoch 44/50\n",
            "1563/1563 [==============================] - 10s 6ms/step - loss: 0.8128 - accuracy: 0.7272\n",
            "Epoch 45/50\n",
            "1563/1563 [==============================] - 10s 6ms/step - loss: 0.8090 - accuracy: 0.7285\n",
            "Epoch 46/50\n",
            "1563/1563 [==============================] - 10s 6ms/step - loss: 0.8056 - accuracy: 0.7291\n",
            "Epoch 47/50\n",
            "1563/1563 [==============================] - 10s 6ms/step - loss: 0.7987 - accuracy: 0.7333\n",
            "Epoch 48/50\n",
            "1563/1563 [==============================] - 10s 6ms/step - loss: 0.8002 - accuracy: 0.7328\n",
            "Epoch 49/50\n",
            "1563/1563 [==============================] - 10s 6ms/step - loss: 0.7921 - accuracy: 0.7341\n",
            "Epoch 50/50\n",
            "1563/1563 [==============================] - 10s 6ms/step - loss: 0.7908 - accuracy: 0.7349\n"
          ]
        },
        {
          "output_type": "execute_result",
          "data": {
            "text/plain": [
              "<keras.callbacks.History at 0x7fdd9e34fe90>"
            ]
          },
          "metadata": {},
          "execution_count": 13
        }
      ]
    },
    {
      "cell_type": "code",
      "source": [
        "model.evaluate(x_test, y_test)"
      ],
      "metadata": {
        "colab": {
          "base_uri": "https://localhost:8080/"
        },
        "id": "zLyVeSI7i0Rc",
        "outputId": "6346416a-13ac-4208-aa93-90743d6797df"
      },
      "execution_count": 14,
      "outputs": [
        {
          "output_type": "stream",
          "name": "stdout",
          "text": [
            "313/313 [==============================] - 2s 4ms/step - loss: 1.0030 - accuracy: 0.6811\n"
          ]
        },
        {
          "output_type": "execute_result",
          "data": {
            "text/plain": [
              "[1.0030142068862915, 0.6811000108718872]"
            ]
          },
          "metadata": {},
          "execution_count": 14
        }
      ]
    },
    {
      "cell_type": "code",
      "source": [
        "import numpy as np\n"
      ],
      "metadata": {
        "id": "1Nf_tydkkyI2"
      },
      "execution_count": 15,
      "outputs": []
    },
    {
      "cell_type": "code",
      "source": [
        "img_num=201\n",
        "y_pred = model.predict(x_test)\n",
        "\n",
        "classes[np.argmax(y_pred[img_num])]"
      ],
      "metadata": {
        "colab": {
          "base_uri": "https://localhost:8080/",
          "height": 35
        },
        "id": "1DqKHwopzLEq",
        "outputId": "76bf6924-35a0-4158-83eb-b125d5a4f30e"
      },
      "execution_count": 18,
      "outputs": [
        {
          "output_type": "execute_result",
          "data": {
            "text/plain": [
              "'automobile'"
            ],
            "application/vnd.google.colaboratory.intrinsic+json": {
              "type": "string"
            }
          },
          "metadata": {},
          "execution_count": 18
        }
      ]
    },
    {
      "cell_type": "code",
      "source": [
        "plt.imshow(x_test[img_num])\n",
        "classes[y_test[img_num][0]]"
      ],
      "metadata": {
        "colab": {
          "base_uri": "https://localhost:8080/",
          "height": 284
        },
        "id": "GYsnFWT9zWbw",
        "outputId": "11d54d0e-486e-4c2d-97aa-23d674bbdf1a"
      },
      "execution_count": 19,
      "outputs": [
        {
          "output_type": "execute_result",
          "data": {
            "text/plain": [
              "'automobile'"
            ],
            "application/vnd.google.colaboratory.intrinsic+json": {
              "type": "string"
            }
          },
          "metadata": {},
          "execution_count": 19
        },
        {
          "output_type": "display_data",
          "data": {
            "text/plain": [
              "<Figure size 432x288 with 1 Axes>"
            ],
            "image/png": "[encoded data removed]"
          },
          "metadata": {
            "needs_background": "light"
          }
        }
      ]
    },
    {
      "cell_type": "code",
      "source": [
        "model.save('/content/drive/MyDrive/CIFER_CNN/CIFER.h5')"
      ],
      "metadata": {
        "id": "c62c-CKbTQHJ"
      },
      "execution_count": 22,
      "outputs": []
    },
    {
      "cell_type": "code",
      "source": [
        "test_img = image.load_img('/content/drive/MyDrive/CIFER_CNN/Deer_1.jpg', target_size=(32,32))\n",
        "test_img = image.img_to_array(test_img)\n",
        "test_img=test_img/255\n",
        "test_img.shape"
      ],
      "metadata": {
        "colab": {
          "base_uri": "https://localhost:8080/"
        },
        "id": "pKwmyfWrTQBU",
        "outputId": "bb46854f-3a28-4f04-e608-f1c5362d88c8"
      },
      "execution_count": 25,
      "outputs": [
        {
          "output_type": "execute_result",
          "data": {
            "text/plain": [
              "(32, 32, 3)"
            ]
          },
          "metadata": {},
          "execution_count": 25
        }
      ]
    },
    {
      "cell_type": "code",
      "source": [
        "test_img= test_img.reshape(1,32,32,3)"
      ],
      "metadata": {
        "id": "CO99SwmaTP2q"
      },
      "execution_count": 26,
      "outputs": []
    },
    {
      "cell_type": "code",
      "source": [
        "load_model= tensorflow.keras.models.load_model('/content/drive/MyDrive/CIFER_CNN/CIFER.h5')"
      ],
      "metadata": {
        "id": "PWa5LpvIUG5p"
      },
      "execution_count": 27,
      "outputs": []
    },
    {
      "cell_type": "code",
      "source": [
        "result = load_model.predict(test_img)\n",
        "classes[np.argmax(result[0])]"
      ],
      "metadata": {
        "colab": {
          "base_uri": "https://localhost:8080/",
          "height": 35
        },
        "id": "qAvvKEL5UR38",
        "outputId": "97c726b4-2a25-48c4-e969-6f09ea7de9e4"
      },
      "execution_count": 31,
      "outputs": [
        {
          "output_type": "execute_result",
          "data": {
            "text/plain": [
              "'deer'"
            ],
            "application/vnd.google.colaboratory.intrinsic+json": {
              "type": "string"
            }
          },
          "metadata": {},
          "execution_count": 31
        }
      ]
    },
    {
      "cell_type": "code",
      "source": [
        "cd /content/drive/MyDrive/CIFER_CNN\n"
      ],
      "metadata": {
        "colab": {
          "base_uri": "https://localhost:8080/"
        },
        "id": "KoymIvUR0Axi",
        "outputId": "46263922-876f-4e90-e950-303f369e048d"
      },
      "execution_count": 32,
      "outputs": [
        {
          "output_type": "stream",
          "name": "stdout",
          "text": [
            "/content/drive/MyDrive/CIFER_CNN\n"
          ]
        }
      ]
    },
    {
      "cell_type": "code",
      "source": [
        "!pip freeze > requirements.txt"
      ],
      "metadata": {
        "id": "OvLKrJXH1Law"
      },
      "execution_count": 33,
      "outputs": []
    },
    {
      "cell_type": "code",
      "source": [
        ""
      ],
      "metadata": {
        "id": "qVdeVqy71bKx"
      },
      "execution_count": null,
      "outputs": []
    }
  ]
}